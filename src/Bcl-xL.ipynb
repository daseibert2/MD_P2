{
 "cells": [
  {
   "cell_type": "code",
   "execution_count": null,
   "metadata": {
    "collapsed": true
   },
   "outputs": [],
   "source": [
    "#original attempt at calculations for both chains"
   ]
  },
  {
   "cell_type": "code",
   "execution_count": null,
   "metadata": {},
   "outputs": [],
   "source": [
    "from simtk.openmm.app import *\n",
    "from simtk.openmm import *\n",
    "from simtk.unit import *\n",
    "\n",
    "print('Loading...')\n",
    "pdb = PDBFile('4qvf_chainA_cleaned.pdb')\n",
    "f=open('results.csv','w')\n",
    "forcefield = ForceField('amber99sb.xml', 'tip3p.xml')\n",
    "modeller = Modeller(pdb.topology, pdb.positions)\n",
    "print('Adding hydrogens...')\n",
    "modeller.addHydrogens(forcefield)\n",
    "print('Adding solvent...')\n",
    "modeller.addSolvent(forcefield, model='tip3p', padding=1*nanometer)\n",
    "print('Minimizing...')\n",
    "system = forcefield.createSystem(modeller.topology, nonbondedMethod=PME)\n",
    "integrator = VerletIntegrator(0.001*picoseconds)\n",
    "platform = Platform.getPlatformByName('OpenCL')\n",
    "\n",
    "\n",
    "simulation = Simulation(modeller.topology, system, integrator,platform)\n",
    "simulation.context.setPositions(modeller.positions)\n",
    "simulation.minimizeEnergy()\n",
    "simulation.reporters.append(PDBReporter('output.pdb', 1000))\n",
    "\n",
    "simulation.step(10000)\n",
    "\n",
    "print('Saving...')\n",
    "simulation.reporters.append(StateDataReporter(f,100,step=True,\n",
    "                            kineticEnergy=True,totalEnergy=True,potentialEnergy=True,temperature=True))\n",
    "print('Done')"
   ]
  },
  {
   "cell_type": "code",
   "execution_count": null,
   "metadata": {
    "collapsed": true
   },
   "outputs": [],
   "source": [
    "ls"
   ]
  },
  {
   "cell_type": "code",
   "execution_count": null,
   "metadata": {},
   "outputs": [],
   "source": [
    "#attempt to create terminal errors in chains"
   ]
  },
  {
   "cell_type": "code",
   "execution_count": null,
   "metadata": {
    "scrolled": true
   },
   "outputs": [],
   "source": [
    "from simtk.openmm.app import *\n",
    "from simtk.openmm import *\n",
    "from simtk.unit import *\n",
    "\n",
    "print('Loading...')\n",
    "pdb = PDBFile('4qvf.clean.pdb')\n",
    "forcefield = ForceField('amber99sb.xml', 'tip3p.xml')\n",
    "\n",
    "#[templates,residues]=forcefield.generateTemplatesForUnmatchedResidues(pdb.topology)\n",
    "#for x in range (0,len(templates)):\n",
    " #   forcefield.registerResidueTemplate(templates[x])\n",
    "\n",
    "modeller = Modeller(pdb.topology, pdb.positions)\n",
    "print('Adding hydrogens...')\n",
    "modeller.addHydrogens(forcefield)\n",
    "print('Adding solvent...')\n",
    "modeller.addSolvent(forcefield, model='tip3p', padding=1*nanometer)\n",
    "print('Minimizing...')\n",
    "system = forcefield.createSystem(modeller.topology, nonbondedMethod=PME)\n",
    "integrator = VerletIntegrator(0.001*picoseconds)\n",
    "simulation = Simulation(modeller.topology, system, integrator)\n",
    "simulation.context.setPositions(modeller.positions)\n",
    "simulation.minimizeEnergy(maxIterations=100)\n",
    "print('Saving...')\n",
    "positions = simulation.context.getState(getPositions=True).getPositions()\n",
    "PDBFile.writeFile(simulation.topology, positions, open('output.pdb', 'w'))\n",
    "print('Done')"
   ]
  },
  {
   "cell_type": "code",
   "execution_count": null,
   "metadata": {
    "collapsed": true
   },
   "outputs": [],
   "source": [
    "pdb.topology._chains #verifying correct # of chains"
   ]
  },
  {
   "cell_type": "code",
   "execution_count": null,
   "metadata": {
    "scrolled": true
   },
   "outputs": [],
   "source": [
    "#attempting to fix template problems w/ chains\n",
    "forcefield.generateTemplatesForUnmatchedResidues(pdb.topology)"
   ]
  },
  {
   "cell_type": "code",
   "execution_count": null,
   "metadata": {
    "collapsed": true
   },
   "outputs": [],
   "source": [
    "#attempting to fix template problems w/ chains\n",
    "[templates,residues]=forcefield.generateTemplatesForUnmatchedResidues(pdb.topology)"
   ]
  },
  {
   "cell_type": "code",
   "execution_count": null,
   "metadata": {
    "scrolled": true
   },
   "outputs": [],
   "source": [
    "#attempting to fix template problems w/ chains\n",
    "forcefield.getUnmatchedResidues(pdb.topology)"
   ]
  },
  {
   "cell_type": "code",
   "execution_count": null,
   "metadata": {
    "scrolled": true
   },
   "outputs": [],
   "source": [
    "#attempting to fix template problems w/ chains\n",
    "templates[:]"
   ]
  },
  {
   "cell_type": "code",
   "execution_count": null,
   "metadata": {
    "collapsed": true
   },
   "outputs": [],
   "source": [
    "templates = forcefield.getMatchingTemplates(pdb.topology)\n",
    "for (residue, template) in zip(pdb.topology.residues(), templates):\n",
    "    print(\"Residue %d %s matched template %s\" % (residue.id, residue.name, template.name))"
   ]
  },
  {
   "cell_type": "code",
   "execution_count": null,
   "metadata": {},
   "outputs": [],
   "source": [
    "#attempting to select specific chains to add residues to\n",
    "pdb.topology.addResidue(name='MET',{Chain:'0'})"
   ]
  },
  {
   "cell_type": "code",
   "execution_count": null,
   "metadata": {},
   "outputs": [],
   "source": [
    "#attempting to select specific chains\n",
    "pdb.topology.chain"
   ]
  },
  {
   "cell_type": "code",
   "execution_count": null,
   "metadata": {
    "collapsed": true
   },
   "outputs": [],
   "source": [
    "#second attempt at calculating energies of chains"
   ]
  },
  {
   "cell_type": "code",
   "execution_count": null,
   "metadata": {
    "collapsed": true
   },
   "outputs": [],
   "source": [
    "#Both chains"
   ]
  },
  {
   "cell_type": "code",
   "execution_count": null,
   "metadata": {
    "collapsed": true
   },
   "outputs": [],
   "source": [
    "from simtk.openmm.app import *\n",
    "from simtk.openmm import *\n",
    "from simtk.unit import *\n",
    "\n",
    "print('Loading...')\n",
    "pdb = PDBFile('4qvf.clean_cleaned.pdb')\n",
    "f=open('results.csv','w')\n",
    "forcefield = ForceField('amber99sb.xml', 'tip3p.xml')\n",
    "modeller = Modeller(pdb.topology, pdb.positions)\n",
    "print('Adding hydrogens...')\n",
    "modeller.addHydrogens(forcefield)\n",
    "print('Adding solvent...')\n",
    "modeller.addSolvent(forcefield, model='tip3p', padding=1*nanometer)\n",
    "print('Minimizing...')\n",
    "system = forcefield.createSystem(modeller.topology, nonbondedMethod=PME)\n",
    "integrator = VerletIntegrator(0.001*picoseconds) #wrong integrator\n",
    "platform = Platform.getPlatformByName('OpenCL')\n",
    "\n",
    "\n",
    "simulation = Simulation(modeller.topology, system, integrator,platform)\n",
    "simulation.context.setPositions(modeller.positions)\n",
    "simulation.minimizeEnergy()\n",
    "simulation.reporters.append(PDBReporter('output.pdb', 1000))\n",
    "\n",
    "print('Saving...')\n",
    "simulation.reporters.append(StateDataReporter(f,100,step=True,kineticEnergy=True,totalEnergy=True,\n",
    "                                                potentialEnergy=True,density=True,temperature=True))\n",
    "simulation.step(30000)\n",
    "print('Done')"
   ]
  },
  {
   "cell_type": "code",
   "execution_count": null,
   "metadata": {
    "collapsed": true
   },
   "outputs": [],
   "source": [
    "#Chain A"
   ]
  },
  {
   "cell_type": "code",
   "execution_count": null,
   "metadata": {
    "collapsed": true
   },
   "outputs": [],
   "source": [
    "from simtk.openmm.app import *\n",
    "from simtk.openmm import *\n",
    "from simtk.unit import *\n",
    "\n",
    "print('Loading...')\n",
    "pdb = PDBFile('4qvf_chainA_cleaned.pdb')\n",
    "f=open('results.A.csv','w')\n",
    "forcefield = ForceField('amber99sb.xml', 'tip3p.xml')\n",
    "modeller = Modeller(pdb.topology, pdb.positions)\n",
    "print('Adding hydrogens...')\n",
    "modeller.addHydrogens(forcefield)\n",
    "print('Adding solvent...')\n",
    "modeller.addSolvent(forcefield, model='tip3p', padding=1*nanometer)\n",
    "print('Minimizing...')\n",
    "system = forcefield.createSystem(modeller.topology, nonbondedMethod=PME)\n",
    "integrator = VerletIntegrator(0.001*picoseconds) #wrong integrator\n",
    "platform = Platform.getPlatformByName('OpenCL')\n",
    "\n",
    "\n",
    "simulation = Simulation(modeller.topology, system, integrator,platform)\n",
    "simulation.context.setPositions(modeller.positions)\n",
    "simulation.minimizeEnergy()\n",
    "simulation.reporters.append(PDBReporter('output.A.pdb', 1000))\n",
    "\n",
    "print('Saving...')\n",
    "simulation.reporters.append(StateDataReporter(f,100,step=True,kineticEnergy=True,totalEnergy=True,\n",
    "                                                potentialEnergy=True,density=True,temperature=True))\n",
    "simulation.step(30000)\n",
    "print('Done')"
   ]
  },
  {
   "cell_type": "code",
   "execution_count": null,
   "metadata": {
    "collapsed": true
   },
   "outputs": [],
   "source": [
    "#Chain B"
   ]
  },
  {
   "cell_type": "code",
   "execution_count": null,
   "metadata": {
    "collapsed": true
   },
   "outputs": [],
   "source": [
    "\n",
    "from simtk.openmm.app import *\n",
    "from simtk.openmm import *\n",
    "from simtk.unit import *\n",
    "\n",
    "print('Loading...')\n",
    "pdb = PDBFile('4qvf_chainB_cleaned.pdb')\n",
    "f=open('results.B.csv','w')\n",
    "forcefield = ForceField('amber99sb.xml', 'tip3p.xml')\n",
    "modeller = Modeller(pdb.topology, pdb.positions)\n",
    "print('Adding hydrogens...')\n",
    "modeller.addHydrogens(forcefield)\n",
    "print('Adding solvent...')\n",
    "modeller.addSolvent(forcefield, model='tip3p', padding=1*nanometer)\n",
    "print('Minimizing...')\n",
    "system = forcefield.createSystem(modeller.topology, nonbondedMethod=PME)\n",
    "integrator = VerletIntegrator(0.001*picoseconds) #wrong integrator\n",
    "platform = Platform.getPlatformByName('OpenCL')\n",
    "\n",
    "\n",
    "simulation = Simulation(modeller.topology, system, integrator,platform)\n",
    "simulation.context.setPositions(modeller.positions)\n",
    "simulation.minimizeEnergy()\n",
    "simulation.reporters.append(PDBReporter('output.B.pdb', 1000))\n",
    "\n",
    "print('Saving...')\n",
    "simulation.reporters.append(StateDataReporter(f,100,step=True,kineticEnergy=True,totalEnergy=True,\n",
    "                                                potentialEnergy=True,density=True,temperature=True))\n",
    "simulation.step(30000)\n",
    "print('Done')"
   ]
  },
  {
   "cell_type": "code",
   "execution_count": null,
   "metadata": {
    "collapsed": true
   },
   "outputs": [],
   "source": [
    "#Final (and successful) attempt at calculating energies"
   ]
  },
  {
   "cell_type": "code",
   "execution_count": null,
   "metadata": {
    "collapsed": true
   },
   "outputs": [],
   "source": [
    "#Both chains"
   ]
  },
  {
   "cell_type": "code",
   "execution_count": null,
   "metadata": {
    "collapsed": true
   },
   "outputs": [],
   "source": [
    "from simtk.openmm.app import *\n",
    "from simtk.openmm import *\n",
    "from simtk.unit import *\n",
    "\n",
    "print('Loading...')\n",
    "pdb = PDBFile('4qvf.clean_cleaned.pdb')\n",
    "f=open('results.csv','w')\n",
    "forcefield = ForceField('amber99sb.xml', 'tip3p.xml')\n",
    "modeller = Modeller(pdb.topology, pdb.positions)\n",
    "print('Adding hydrogens...')\n",
    "modeller.addHydrogens(forcefield)\n",
    "print('Adding solvent...')\n",
    "modeller.addSolvent(forcefield, model='tip3p', padding=1*nanometer)\n",
    "print('Minimizing...')\n",
    "system = forcefield.createSystem(modeller.topology, nonbondedMethod=PME)\n",
    "integrator = LangevinIntegrator(300*kelvin, 1/picosecond, 0.001*picoseconds)\n",
    "platform = Platform.getPlatformByName('OpenCL')\n",
    "\n",
    "\n",
    "simulation = Simulation(modeller.topology, system, integrator,platform)\n",
    "simulation.context.setPositions(modeller.positions)\n",
    "simulation.minimizeEnergy()\n",
    "simulation.reporters.append(PDBReporter('output.pdb', 1000))\n",
    "\n",
    "print('Saving...')\n",
    "simulation.reporters.append(StateDataReporter(f,100,step=True,kineticEnergy=True,totalEnergy=True,\n",
    "                                                potentialEnergy=True,density=True,temperature=True))\n",
    "simulation.step(30000)\n",
    "print('Done')\n"
   ]
  },
  {
   "cell_type": "code",
   "execution_count": null,
   "metadata": {
    "collapsed": true
   },
   "outputs": [],
   "source": [
    "#Chain A"
   ]
  },
  {
   "cell_type": "code",
   "execution_count": null,
   "metadata": {
    "collapsed": true
   },
   "outputs": [],
   "source": [
    "from simtk.openmm.app import *\n",
    "from simtk.openmm import *\n",
    "from simtk.unit import *\n",
    "\n",
    "print('Loading...')\n",
    "pdb = PDBFile('4qvf_chainA_cleaned.pdb')\n",
    "f=open('results.A.csv','w')\n",
    "forcefield = ForceField('amber99sb.xml', 'tip3p.xml')\n",
    "modeller = Modeller(pdb.topology, pdb.positions)\n",
    "print('Adding hydrogens...')\n",
    "modeller.addHydrogens(forcefield)\n",
    "print('Adding solvent...')\n",
    "modeller.addSolvent(forcefield, model='tip3p', padding=1*nanometer)\n",
    "print('Minimizing...')\n",
    "system = forcefield.createSystem(modeller.topology, nonbondedMethod=PME)\n",
    "integrator = LangevinIntegrator(300*kelvin, 1/picosecond, 0.001*picoseconds)\n",
    "platform = Platform.getPlatformByName('OpenCL')\n",
    "\n",
    "\n",
    "simulation = Simulation(modeller.topology, system, integrator,platform)\n",
    "simulation.context.setPositions(modeller.positions)\n",
    "simulation.minimizeEnergy()\n",
    "simulation.reporters.append(PDBReporter('output.A.pdb', 1000))\n",
    "\n",
    "print('Saving...')\n",
    "simulation.reporters.append(StateDataReporter(f,100,step=True,kineticEnergy=True,totalEnergy=True,\n",
    "                                                potentialEnergy=True,density=True,temperature=True))\n",
    "simulation.step(30000)\n",
    "print('Done')\n"
   ]
  },
  {
   "cell_type": "code",
   "execution_count": null,
   "metadata": {
    "collapsed": true
   },
   "outputs": [],
   "source": [
    "#Chain B"
   ]
  },
  {
   "cell_type": "code",
   "execution_count": null,
   "metadata": {
    "collapsed": true
   },
   "outputs": [],
   "source": [
    "from simtk.openmm.app import *\n",
    "from simtk.openmm import *\n",
    "from simtk.unit import *\n",
    "\n",
    "print('Loading...')\n",
    "pdb = PDBFile('4qvf_chainB_cleaned.pdb')\n",
    "f=open('results.B.csv','w')\n",
    "forcefield = ForceField('amber99sb.xml', 'tip3p.xml')\n",
    "modeller = Modeller(pdb.topology, pdb.positions)\n",
    "print('Adding hydrogens...')\n",
    "modeller.addHydrogens(forcefield)\n",
    "print('Adding solvent...')\n",
    "modeller.addSolvent(forcefield, model='tip3p', padding=1*nanometer)\n",
    "print('Minimizing...')\n",
    "system = forcefield.createSystem(modeller.topology, nonbondedMethod=PME)\n",
    "integrator = LangevinIntegrator(300*kelvin, 1/picosecond, 0.001*picoseconds)\n",
    "platform = Platform.getPlatformByName('OpenCL')\n",
    "\n",
    "\n",
    "simulation = Simulation(modeller.topology, system, integrator,platform)\n",
    "simulation.context.setPositions(modeller.positions)\n",
    "simulation.minimizeEnergy()\n",
    "simulation.reporters.append(PDBReporter('output.B.pdb', 1000))\n",
    "\n",
    "print('Saving...')\n",
    "simulation.reporters.append(StateDataReporter(f,100,step=True,kineticEnergy=True,totalEnergy=True,\n",
    "                                                potentialEnergy=True,density=True,temperature=True))\n",
    "simulation.step(30000)\n",
    "print('Done')\n"
   ]
  }
 ],
 "metadata": {
  "kernelspec": {
   "display_name": "Python 3",
   "language": "python",
   "name": "python3"
  },
  "language_info": {
   "codemirror_mode": {
    "name": "ipython",
    "version": 3
   },
   "file_extension": ".py",
   "mimetype": "text/x-python",
   "name": "python",
   "nbconvert_exporter": "python",
   "pygments_lexer": "ipython3",
   "version": "3.6.2"
  }
 },
 "nbformat": 4,
 "nbformat_minor": 2
}
