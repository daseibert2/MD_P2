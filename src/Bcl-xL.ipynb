{
 "cells": [
  {
   "cell_type": "code",
   "execution_count": 1,
   "metadata": {},
   "outputs": [
    {
     "name": "stdout",
     "output_type": "stream",
     "text": [
      "Loading...\n",
      "Adding hydrogens...\n",
      "Adding solvent...\n",
      "Minimizing...\n",
      "Saving...\n",
      "Done\n"
     ]
    }
   ],
   "source": [
    "from simtk.openmm.app import *\n",
    "from simtk.openmm import *\n",
    "from simtk.unit import *\n",
    "\n",
    "print('Loading...')\n",
    "pdb = PDBFile('4qvf_chainA_cleaned.pdb')\n",
    "f=open('results.csv','w')\n",
    "forcefield = ForceField('amber99sb.xml', 'tip3p.xml')\n",
    "modeller = Modeller(pdb.topology, pdb.positions)\n",
    "print('Adding hydrogens...')\n",
    "modeller.addHydrogens(forcefield)\n",
    "print('Adding solvent...')\n",
    "modeller.addSolvent(forcefield, model='tip3p', padding=1*nanometer)\n",
    "print('Minimizing...')\n",
    "system = forcefield.createSystem(modeller.topology, nonbondedMethod=PME)\n",
    "integrator = VerletIntegrator(0.001*picoseconds)\n",
    "platform = Platform.getPlatformByName('OpenCL')\n",
    "\n",
    "\n",
    "simulation = Simulation(modeller.topology, system, integrator,platform)\n",
    "simulation.context.setPositions(modeller.positions)\n",
    "simulation.minimizeEnergy()\n",
    "simulation.reporters.append(PDBReporter('output.pdb', 1000))\n",
    "\n",
    "simulation.step(10000)\n",
    "\n",
    "print('Saving...')\n",
    "simulation.reporters.append(StateDataReporter(f,100,step=True,\n",
    "                            kineticEnergy=True,totalEnergy=True,potentialEnergy=True,temperature=True))\n",
    "print('Done')"
   ]
  },
  {
   "cell_type": "code",
   "execution_count": null,
   "metadata": {
    "collapsed": true
   },
   "outputs": [],
   "source": [
    "ls"
   ]
  },
  {
   "cell_type": "code",
   "execution_count": 1,
   "metadata": {},
   "outputs": [
    {
     "name": "stderr",
     "output_type": "stream",
     "text": [
      "/share/apps/python/3.6-anaconda3/lib/python3.6/site-packages/mdtraj/core/trajectory.py:417: UserWarning: top= kwarg ignored since file contains topology information\n",
      "  warnings.warn('top= kwarg ignored since file contains topology information')\n"
     ]
    },
    {
     "data": {
      "application/vnd.jupyter.widget-view+json": {
       "model_id": "94a2bdfa8b6a4ac397a44f128f3f2ac4",
       "version_major": 2,
       "version_minor": 0
      },
      "text/plain": [
       "A Jupyter Widget"
      ]
     },
     "metadata": {},
     "output_type": "display_data"
    }
   ],
   "source": [
    "import mdtraj as md\n",
    "import nglview as nv\n",
    "struct=md.load(\"4qvf.clean.pdb\",top=\"4qvf.clean.pdb\")\n",
    "view= nv.show_mdtraj(struct)\n",
    "view"
   ]
  },
  {
   "cell_type": "code",
   "execution_count": 6,
   "metadata": {
    "scrolled": true
   },
   "outputs": [
    {
     "name": "stdout",
     "output_type": "stream",
     "text": [
      "Loading...\n",
      "Adding hydrogens...\n"
     ]
    },
    {
     "ename": "ValueError",
     "evalue": "No template found for residue 141 (GLY).  The set of atoms matches GLY, but the bonds are different.  Perhaps the chain is missing a terminal group?",
     "output_type": "error",
     "traceback": [
      "\u001b[0;31m---------------------------------------------------------------------------\u001b[0m",
      "\u001b[0;31mValueError\u001b[0m                                Traceback (most recent call last)",
      "\u001b[0;32m<ipython-input-6-8a4d819c1016>\u001b[0m in \u001b[0;36m<module>\u001b[0;34m()\u001b[0m\n\u001b[1;32m     13\u001b[0m \u001b[0mmodeller\u001b[0m \u001b[0;34m=\u001b[0m \u001b[0mModeller\u001b[0m\u001b[0;34m(\u001b[0m\u001b[0mpdb\u001b[0m\u001b[0;34m.\u001b[0m\u001b[0mtopology\u001b[0m\u001b[0;34m,\u001b[0m \u001b[0mpdb\u001b[0m\u001b[0;34m.\u001b[0m\u001b[0mpositions\u001b[0m\u001b[0;34m)\u001b[0m\u001b[0;34m\u001b[0m\u001b[0m\n\u001b[1;32m     14\u001b[0m \u001b[0mprint\u001b[0m\u001b[0;34m(\u001b[0m\u001b[0;34m'Adding hydrogens...'\u001b[0m\u001b[0;34m)\u001b[0m\u001b[0;34m\u001b[0m\u001b[0m\n\u001b[0;32m---> 15\u001b[0;31m \u001b[0mmodeller\u001b[0m\u001b[0;34m.\u001b[0m\u001b[0maddHydrogens\u001b[0m\u001b[0;34m(\u001b[0m\u001b[0mforcefield\u001b[0m\u001b[0;34m)\u001b[0m\u001b[0;34m\u001b[0m\u001b[0m\n\u001b[0m\u001b[1;32m     16\u001b[0m \u001b[0mprint\u001b[0m\u001b[0;34m(\u001b[0m\u001b[0;34m'Adding solvent...'\u001b[0m\u001b[0;34m)\u001b[0m\u001b[0;34m\u001b[0m\u001b[0m\n\u001b[1;32m     17\u001b[0m \u001b[0mmodeller\u001b[0m\u001b[0;34m.\u001b[0m\u001b[0maddSolvent\u001b[0m\u001b[0;34m(\u001b[0m\u001b[0mforcefield\u001b[0m\u001b[0;34m,\u001b[0m \u001b[0mmodel\u001b[0m\u001b[0;34m=\u001b[0m\u001b[0;34m'tip3p'\u001b[0m\u001b[0;34m,\u001b[0m \u001b[0mpadding\u001b[0m\u001b[0;34m=\u001b[0m\u001b[0;36m1\u001b[0m\u001b[0;34m*\u001b[0m\u001b[0mnanometer\u001b[0m\u001b[0;34m)\u001b[0m\u001b[0;34m\u001b[0m\u001b[0m\n",
      "\u001b[0;32m/share/apps/python/3.6-anaconda3/lib/python3.6/site-packages/simtk/openmm/app/modeller.py\u001b[0m in \u001b[0;36maddHydrogens\u001b[0;34m(self, forcefield, pH, variants, platform)\u001b[0m\n\u001b[1;32m    865\u001b[0m             \u001b[0;31m# Use the ForceField the user specified.\u001b[0m\u001b[0;34m\u001b[0m\u001b[0;34m\u001b[0m\u001b[0m\n\u001b[1;32m    866\u001b[0m \u001b[0;34m\u001b[0m\u001b[0m\n\u001b[0;32m--> 867\u001b[0;31m             \u001b[0msystem\u001b[0m \u001b[0;34m=\u001b[0m \u001b[0mforcefield\u001b[0m\u001b[0;34m.\u001b[0m\u001b[0mcreateSystem\u001b[0m\u001b[0;34m(\u001b[0m\u001b[0mnewTopology\u001b[0m\u001b[0;34m,\u001b[0m \u001b[0mrigidWater\u001b[0m\u001b[0;34m=\u001b[0m\u001b[0;32mFalse\u001b[0m\u001b[0;34m,\u001b[0m \u001b[0mnonbondedMethod\u001b[0m\u001b[0;34m=\u001b[0m\u001b[0mCutoffNonPeriodic\u001b[0m\u001b[0;34m)\u001b[0m\u001b[0;34m\u001b[0m\u001b[0m\n\u001b[0m\u001b[1;32m    868\u001b[0m             \u001b[0matoms\u001b[0m \u001b[0;34m=\u001b[0m \u001b[0mlist\u001b[0m\u001b[0;34m(\u001b[0m\u001b[0mnewTopology\u001b[0m\u001b[0;34m.\u001b[0m\u001b[0matoms\u001b[0m\u001b[0;34m(\u001b[0m\u001b[0;34m)\u001b[0m\u001b[0;34m)\u001b[0m\u001b[0;34m\u001b[0m\u001b[0m\n\u001b[1;32m    869\u001b[0m             \u001b[0;32mfor\u001b[0m \u001b[0mi\u001b[0m \u001b[0;32min\u001b[0m \u001b[0mrange\u001b[0m\u001b[0;34m(\u001b[0m\u001b[0msystem\u001b[0m\u001b[0;34m.\u001b[0m\u001b[0mgetNumParticles\u001b[0m\u001b[0;34m(\u001b[0m\u001b[0;34m)\u001b[0m\u001b[0;34m)\u001b[0m\u001b[0;34m:\u001b[0m\u001b[0;34m\u001b[0m\u001b[0m\n",
      "\u001b[0;32m/share/apps/python/3.6-anaconda3/lib/python3.6/site-packages/simtk/openmm/app/forcefield.py\u001b[0m in \u001b[0;36mcreateSystem\u001b[0;34m(self, topology, nonbondedMethod, nonbondedCutoff, constraints, rigidWater, removeCMMotion, hydrogenMass, residueTemplates, ignoreExternalBonds, **args)\u001b[0m\n\u001b[1;32m   1075\u001b[0m                             \u001b[0;32mbreak\u001b[0m\u001b[0;34m\u001b[0m\u001b[0m\n\u001b[1;32m   1076\u001b[0m             \u001b[0;32mif\u001b[0m \u001b[0mmatches\u001b[0m \u001b[0;32mis\u001b[0m \u001b[0;32mNone\u001b[0m\u001b[0;34m:\u001b[0m\u001b[0;34m\u001b[0m\u001b[0m\n\u001b[0;32m-> 1077\u001b[0;31m                 \u001b[0;32mraise\u001b[0m \u001b[0mValueError\u001b[0m\u001b[0;34m(\u001b[0m\u001b[0;34m'No template found for residue %d (%s).  %s'\u001b[0m \u001b[0;34m%\u001b[0m \u001b[0;34m(\u001b[0m\u001b[0mres\u001b[0m\u001b[0;34m.\u001b[0m\u001b[0mindex\u001b[0m\u001b[0;34m+\u001b[0m\u001b[0;36m1\u001b[0m\u001b[0;34m,\u001b[0m \u001b[0mres\u001b[0m\u001b[0;34m.\u001b[0m\u001b[0mname\u001b[0m\u001b[0;34m,\u001b[0m \u001b[0m_findMatchErrors\u001b[0m\u001b[0;34m(\u001b[0m\u001b[0mself\u001b[0m\u001b[0;34m,\u001b[0m \u001b[0mres\u001b[0m\u001b[0;34m)\u001b[0m\u001b[0;34m)\u001b[0m\u001b[0;34m)\u001b[0m\u001b[0;34m\u001b[0m\u001b[0m\n\u001b[0m\u001b[1;32m   1078\u001b[0m             \u001b[0;32melse\u001b[0m\u001b[0;34m:\u001b[0m\u001b[0;34m\u001b[0m\u001b[0m\n\u001b[1;32m   1079\u001b[0m                 \u001b[0mdata\u001b[0m\u001b[0;34m.\u001b[0m\u001b[0mrecordMatchedAtomParameters\u001b[0m\u001b[0;34m(\u001b[0m\u001b[0mres\u001b[0m\u001b[0;34m,\u001b[0m \u001b[0mtemplate\u001b[0m\u001b[0;34m,\u001b[0m \u001b[0mmatches\u001b[0m\u001b[0;34m)\u001b[0m\u001b[0;34m\u001b[0m\u001b[0m\n",
      "\u001b[0;31mValueError\u001b[0m: No template found for residue 141 (GLY).  The set of atoms matches GLY, but the bonds are different.  Perhaps the chain is missing a terminal group?"
     ]
    }
   ],
   "source": [
    "from simtk.openmm.app import *\n",
    "from simtk.openmm import *\n",
    "from simtk.unit import *\n",
    "\n",
    "print('Loading...')\n",
    "pdb = PDBFile('4qvf.clean.pdb')\n",
    "forcefield = ForceField('amber99sb.xml', 'tip3p.xml')\n",
    "\n",
    "#[templates,residues]=forcefield.generateTemplatesForUnmatchedResidues(pdb.topology)\n",
    "#for x in range (0,len(templates)):\n",
    " #   forcefield.registerResidueTemplate(templates[x])\n",
    "\n",
    "modeller = Modeller(pdb.topology, pdb.positions)\n",
    "print('Adding hydrogens...')\n",
    "modeller.addHydrogens(forcefield)\n",
    "print('Adding solvent...')\n",
    "modeller.addSolvent(forcefield, model='tip3p', padding=1*nanometer)\n",
    "print('Minimizing...')\n",
    "system = forcefield.createSystem(modeller.topology, nonbondedMethod=PME)\n",
    "integrator = VerletIntegrator(0.001*picoseconds)\n",
    "simulation = Simulation(modeller.topology, system, integrator)\n",
    "simulation.context.setPositions(modeller.positions)\n",
    "simulation.minimizeEnergy(maxIterations=100)\n",
    "print('Saving...')\n",
    "positions = simulation.context.getState(getPositions=True).getPositions()\n",
    "PDBFile.writeFile(simulation.topology, positions, open('output.pdb', 'w'))\n",
    "print('Done')"
   ]
  },
  {
   "cell_type": "code",
   "execution_count": null,
   "metadata": {
    "collapsed": true
   },
   "outputs": [],
   "source": [
    "pdb.topology._chains"
   ]
  },
  {
   "cell_type": "code",
   "execution_count": 14,
   "metadata": {
    "scrolled": true
   },
   "outputs": [
    {
     "data": {
      "text/plain": [
       "[[<simtk.openmm.app.forcefield.ForceField._TemplateData at 0x7fc2da115518>,\n",
       "  <simtk.openmm.app.forcefield.ForceField._TemplateData at 0x7fc2da115470>,\n",
       "  <simtk.openmm.app.forcefield.ForceField._TemplateData at 0x7fc2da1102e8>,\n",
       "  <simtk.openmm.app.forcefield.ForceField._TemplateData at 0x7fc2da1103c8>,\n",
       "  <simtk.openmm.app.forcefield.ForceField._TemplateData at 0x7fc2da1106d8>,\n",
       "  <simtk.openmm.app.forcefield.ForceField._TemplateData at 0x7fc2da1190b8>,\n",
       "  <simtk.openmm.app.forcefield.ForceField._TemplateData at 0x7fc2da1024a8>,\n",
       "  <simtk.openmm.app.forcefield.ForceField._TemplateData at 0x7fc2da17ea90>,\n",
       "  <simtk.openmm.app.forcefield.ForceField._TemplateData at 0x7fc2da179cc0>,\n",
       "  <simtk.openmm.app.forcefield.ForceField._TemplateData at 0x7fc2da179c88>,\n",
       "  <simtk.openmm.app.forcefield.ForceField._TemplateData at 0x7fc2da179f28>,\n",
       "  <simtk.openmm.app.forcefield.ForceField._TemplateData at 0x7fc3086175f8>,\n",
       "  <simtk.openmm.app.forcefield.ForceField._TemplateData at 0x7fc3086176a0>,\n",
       "  <simtk.openmm.app.forcefield.ForceField._TemplateData at 0x7fc2da696f60>,\n",
       "  <simtk.openmm.app.forcefield.ForceField._TemplateData at 0x7fc2da696b00>,\n",
       "  <simtk.openmm.app.forcefield.ForceField._TemplateData at 0x7fc2da696908>,\n",
       "  <simtk.openmm.app.forcefield.ForceField._TemplateData at 0x7fc2da115780>,\n",
       "  <simtk.openmm.app.forcefield.ForceField._TemplateData at 0x7fc2da110748>,\n",
       "  <simtk.openmm.app.forcefield.ForceField._TemplateData at 0x7fc2da9469b0>,\n",
       "  <simtk.openmm.app.forcefield.ForceField._TemplateData at 0x7fc2da946828>,\n",
       "  <simtk.openmm.app.forcefield.ForceField._TemplateData at 0x7fc2da777ef0>,\n",
       "  <simtk.openmm.app.forcefield.ForceField._TemplateData at 0x7fc2da7775c0>,\n",
       "  <simtk.openmm.app.forcefield.ForceField._TemplateData at 0x7fc2da777c88>,\n",
       "  <simtk.openmm.app.forcefield.ForceField._TemplateData at 0x7fc2da7772b0>],\n",
       " [<Residue 0 (SER) of chain 0>,\n",
       "  <Residue 1 (GLN) of chain 0>,\n",
       "  <Residue 2 (SER) of chain 0>,\n",
       "  <Residue 3 (ASN) of chain 0>,\n",
       "  <Residue 4 (ARG) of chain 0>,\n",
       "  <Residue 5 (GLU) of chain 0>,\n",
       "  <Residue 6 (LEU) of chain 0>,\n",
       "  <Residue 7 (VAL) of chain 0>,\n",
       "  <Residue 9 (ASP) of chain 0>,\n",
       "  <Residue 10 (PHE) of chain 0>,\n",
       "  <Residue 13 (TYR) of chain 0>,\n",
       "  <Residue 14 (LYS) of chain 0>,\n",
       "  <Residue 19 (GLY) of chain 0>,\n",
       "  <Residue 22 (TRP) of chain 0>,\n",
       "  <Residue 29 (ALA) of chain 0>,\n",
       "  <Residue 53 (THR) of chain 0>,\n",
       "  <Residue 57 (HIS) of chain 0>,\n",
       "  <Residue 58 (ILE) of chain 0>,\n",
       "  <Residue 60 (PRO) of chain 0>,\n",
       "  <Residue 95 (CYS) of chain 0>,\n",
       "  <Residue 103 (MET) of chain 0>,\n",
       "  <Residue 140 (GLY) of chain 0>,\n",
       "  <Residue 141 (PRO) of chain 1>,\n",
       "  <Residue 161 (ALA) of chain 1>]]"
      ]
     },
     "execution_count": 14,
     "metadata": {},
     "output_type": "execute_result"
    }
   ],
   "source": [
    "forcefield.generateTemplatesForUnmatchedResidues(pdb.topology)"
   ]
  },
  {
   "cell_type": "code",
   "execution_count": 3,
   "metadata": {
    "collapsed": true
   },
   "outputs": [],
   "source": [
    "[templates,residues]=forcefield.generateTemplatesForUnmatchedResidues(pdb.topology)"
   ]
  },
  {
   "cell_type": "code",
   "execution_count": 15,
   "metadata": {
    "scrolled": true
   },
   "outputs": [
    {
     "data": {
      "text/plain": [
       "[<Residue 0 (SER) of chain 0>,\n",
       " <Residue 1 (GLN) of chain 0>,\n",
       " <Residue 2 (SER) of chain 0>,\n",
       " <Residue 3 (ASN) of chain 0>,\n",
       " <Residue 4 (ARG) of chain 0>,\n",
       " <Residue 5 (GLU) of chain 0>,\n",
       " <Residue 6 (LEU) of chain 0>,\n",
       " <Residue 7 (VAL) of chain 0>,\n",
       " <Residue 8 (VAL) of chain 0>,\n",
       " <Residue 9 (ASP) of chain 0>,\n",
       " <Residue 10 (PHE) of chain 0>,\n",
       " <Residue 11 (LEU) of chain 0>,\n",
       " <Residue 12 (SER) of chain 0>,\n",
       " <Residue 13 (TYR) of chain 0>,\n",
       " <Residue 14 (LYS) of chain 0>,\n",
       " <Residue 15 (LEU) of chain 0>,\n",
       " <Residue 16 (SER) of chain 0>,\n",
       " <Residue 17 (GLN) of chain 0>,\n",
       " <Residue 18 (LYS) of chain 0>,\n",
       " <Residue 19 (GLY) of chain 0>,\n",
       " <Residue 20 (TYR) of chain 0>,\n",
       " <Residue 21 (SER) of chain 0>,\n",
       " <Residue 22 (TRP) of chain 0>,\n",
       " <Residue 23 (SER) of chain 0>,\n",
       " <Residue 24 (GLN) of chain 0>,\n",
       " <Residue 25 (PHE) of chain 0>,\n",
       " <Residue 26 (SER) of chain 0>,\n",
       " <Residue 27 (ASP) of chain 0>,\n",
       " <Residue 28 (VAL) of chain 0>,\n",
       " <Residue 29 (ALA) of chain 0>,\n",
       " <Residue 30 (VAL) of chain 0>,\n",
       " <Residue 31 (LYS) of chain 0>,\n",
       " <Residue 32 (GLN) of chain 0>,\n",
       " <Residue 33 (ALA) of chain 0>,\n",
       " <Residue 34 (LEU) of chain 0>,\n",
       " <Residue 35 (ARG) of chain 0>,\n",
       " <Residue 36 (GLU) of chain 0>,\n",
       " <Residue 37 (ALA) of chain 0>,\n",
       " <Residue 38 (GLY) of chain 0>,\n",
       " <Residue 39 (ASP) of chain 0>,\n",
       " <Residue 40 (GLU) of chain 0>,\n",
       " <Residue 41 (PHE) of chain 0>,\n",
       " <Residue 42 (GLU) of chain 0>,\n",
       " <Residue 43 (LEU) of chain 0>,\n",
       " <Residue 44 (ARG) of chain 0>,\n",
       " <Residue 45 (TYR) of chain 0>,\n",
       " <Residue 46 (ARG) of chain 0>,\n",
       " <Residue 47 (ARG) of chain 0>,\n",
       " <Residue 48 (ALA) of chain 0>,\n",
       " <Residue 49 (PHE) of chain 0>,\n",
       " <Residue 50 (SER) of chain 0>,\n",
       " <Residue 51 (ASP) of chain 0>,\n",
       " <Residue 52 (LEU) of chain 0>,\n",
       " <Residue 53 (THR) of chain 0>,\n",
       " <Residue 54 (SER) of chain 0>,\n",
       " <Residue 55 (GLN) of chain 0>,\n",
       " <Residue 56 (LEU) of chain 0>,\n",
       " <Residue 57 (HIS) of chain 0>,\n",
       " <Residue 58 (ILE) of chain 0>,\n",
       " <Residue 59 (THR) of chain 0>,\n",
       " <Residue 60 (PRO) of chain 0>,\n",
       " <Residue 61 (GLY) of chain 0>,\n",
       " <Residue 62 (THR) of chain 0>,\n",
       " <Residue 63 (ALA) of chain 0>,\n",
       " <Residue 64 (TYR) of chain 0>,\n",
       " <Residue 65 (GLN) of chain 0>,\n",
       " <Residue 66 (SER) of chain 0>,\n",
       " <Residue 67 (PHE) of chain 0>,\n",
       " <Residue 68 (GLU) of chain 0>,\n",
       " <Residue 69 (GLN) of chain 0>,\n",
       " <Residue 70 (VAL) of chain 0>,\n",
       " <Residue 71 (VAL) of chain 0>,\n",
       " <Residue 72 (ASN) of chain 0>,\n",
       " <Residue 73 (GLU) of chain 0>,\n",
       " <Residue 74 (LEU) of chain 0>,\n",
       " <Residue 75 (PHE) of chain 0>,\n",
       " <Residue 76 (ARG) of chain 0>,\n",
       " <Residue 77 (ASP) of chain 0>,\n",
       " <Residue 78 (GLY) of chain 0>,\n",
       " <Residue 79 (VAL) of chain 0>,\n",
       " <Residue 80 (ASN) of chain 0>,\n",
       " <Residue 81 (TRP) of chain 0>,\n",
       " <Residue 82 (GLY) of chain 0>,\n",
       " <Residue 83 (ARG) of chain 0>,\n",
       " <Residue 84 (ILE) of chain 0>,\n",
       " <Residue 85 (VAL) of chain 0>,\n",
       " <Residue 86 (ALA) of chain 0>,\n",
       " <Residue 87 (PHE) of chain 0>,\n",
       " <Residue 88 (PHE) of chain 0>,\n",
       " <Residue 89 (SER) of chain 0>,\n",
       " <Residue 90 (PHE) of chain 0>,\n",
       " <Residue 91 (GLY) of chain 0>,\n",
       " <Residue 92 (GLY) of chain 0>,\n",
       " <Residue 93 (ALA) of chain 0>,\n",
       " <Residue 94 (LEU) of chain 0>,\n",
       " <Residue 95 (CYS) of chain 0>,\n",
       " <Residue 96 (VAL) of chain 0>,\n",
       " <Residue 97 (GLU) of chain 0>,\n",
       " <Residue 98 (SER) of chain 0>,\n",
       " <Residue 99 (VAL) of chain 0>,\n",
       " <Residue 100 (ASP) of chain 0>,\n",
       " <Residue 101 (LYS) of chain 0>,\n",
       " <Residue 102 (GLU) of chain 0>,\n",
       " <Residue 103 (MET) of chain 0>,\n",
       " <Residue 104 (GLN) of chain 0>,\n",
       " <Residue 105 (VAL) of chain 0>,\n",
       " <Residue 106 (LEU) of chain 0>,\n",
       " <Residue 107 (VAL) of chain 0>,\n",
       " <Residue 108 (SER) of chain 0>,\n",
       " <Residue 109 (ARG) of chain 0>,\n",
       " <Residue 110 (ILE) of chain 0>,\n",
       " <Residue 111 (ALA) of chain 0>,\n",
       " <Residue 112 (ALA) of chain 0>,\n",
       " <Residue 113 (TRP) of chain 0>,\n",
       " <Residue 114 (MET) of chain 0>,\n",
       " <Residue 115 (ALA) of chain 0>,\n",
       " <Residue 116 (THR) of chain 0>,\n",
       " <Residue 117 (TYR) of chain 0>,\n",
       " <Residue 118 (LEU) of chain 0>,\n",
       " <Residue 119 (ASN) of chain 0>,\n",
       " <Residue 120 (ASP) of chain 0>,\n",
       " <Residue 121 (HIS) of chain 0>,\n",
       " <Residue 122 (LEU) of chain 0>,\n",
       " <Residue 123 (GLU) of chain 0>,\n",
       " <Residue 124 (PRO) of chain 0>,\n",
       " <Residue 125 (TRP) of chain 0>,\n",
       " <Residue 126 (ILE) of chain 0>,\n",
       " <Residue 127 (GLN) of chain 0>,\n",
       " <Residue 128 (GLU) of chain 0>,\n",
       " <Residue 129 (ASN) of chain 0>,\n",
       " <Residue 130 (GLY) of chain 0>,\n",
       " <Residue 131 (GLY) of chain 0>,\n",
       " <Residue 132 (TRP) of chain 0>,\n",
       " <Residue 133 (ASP) of chain 0>,\n",
       " <Residue 134 (THR) of chain 0>,\n",
       " <Residue 135 (PHE) of chain 0>,\n",
       " <Residue 136 (VAL) of chain 0>,\n",
       " <Residue 137 (GLU) of chain 0>,\n",
       " <Residue 138 (LEU) of chain 0>,\n",
       " <Residue 139 (TYR) of chain 0>,\n",
       " <Residue 140 (GLY) of chain 0>,\n",
       " <Residue 141 (PRO) of chain 1>,\n",
       " <Residue 142 (GLU) of chain 1>,\n",
       " <Residue 143 (ILE) of chain 1>,\n",
       " <Residue 144 (TRP) of chain 1>,\n",
       " <Residue 145 (ILE) of chain 1>,\n",
       " <Residue 146 (ALA) of chain 1>,\n",
       " <Residue 147 (GLN) of chain 1>,\n",
       " <Residue 148 (GLU) of chain 1>,\n",
       " <Residue 149 (LEU) of chain 1>,\n",
       " <Residue 150 (ARG) of chain 1>,\n",
       " <Residue 151 (ARG) of chain 1>,\n",
       " <Residue 152 (ILE) of chain 1>,\n",
       " <Residue 153 (GLY) of chain 1>,\n",
       " <Residue 154 (ASP) of chain 1>,\n",
       " <Residue 155 (GLU) of chain 1>,\n",
       " <Residue 156 (PHE) of chain 1>,\n",
       " <Residue 157 (ASN) of chain 1>,\n",
       " <Residue 158 (ALA) of chain 1>,\n",
       " <Residue 159 (TYR) of chain 1>,\n",
       " <Residue 160 (TYR) of chain 1>,\n",
       " <Residue 161 (ALA) of chain 1>]"
      ]
     },
     "execution_count": 15,
     "metadata": {},
     "output_type": "execute_result"
    }
   ],
   "source": [
    "forcefield.getUnmatchedResidues(pdb.topology)"
   ]
  },
  {
   "cell_type": "code",
   "execution_count": 10,
   "metadata": {
    "scrolled": true
   },
   "outputs": [
    {
     "data": {
      "text/plain": [
       "[<simtk.openmm.app.forcefield.ForceField._TemplateData at 0x7fc2da9aa400>,\n",
       " <simtk.openmm.app.forcefield.ForceField._TemplateData at 0x7fc2da9aa358>,\n",
       " <simtk.openmm.app.forcefield.ForceField._TemplateData at 0x7fc2da9aa1d0>,\n",
       " <simtk.openmm.app.forcefield.ForceField._TemplateData at 0x7fc2da9aa208>,\n",
       " <simtk.openmm.app.forcefield.ForceField._TemplateData at 0x7fc2da9aa630>,\n",
       " <simtk.openmm.app.forcefield.ForceField._TemplateData at 0x7fc2da9a09b0>,\n",
       " <simtk.openmm.app.forcefield.ForceField._TemplateData at 0x7fc2da9a0748>,\n",
       " <simtk.openmm.app.forcefield.ForceField._TemplateData at 0x7fc2da9a0518>,\n",
       " <simtk.openmm.app.forcefield.ForceField._TemplateData at 0x7fc2da9a01d0>,\n",
       " <simtk.openmm.app.forcefield.ForceField._TemplateData at 0x7fc2da9a0128>,\n",
       " <simtk.openmm.app.forcefield.ForceField._TemplateData at 0x7fc308610c88>,\n",
       " <simtk.openmm.app.forcefield.ForceField._TemplateData at 0x7fc30f7a8828>,\n",
       " <simtk.openmm.app.forcefield.ForceField._TemplateData at 0x7fc2da942390>,\n",
       " <simtk.openmm.app.forcefield.ForceField._TemplateData at 0x7fc2da99c668>,\n",
       " <simtk.openmm.app.forcefield.ForceField._TemplateData at 0x7fc2da99c080>,\n",
       " <simtk.openmm.app.forcefield.ForceField._TemplateData at 0x7fc2da9aa9b0>,\n",
       " <simtk.openmm.app.forcefield.ForceField._TemplateData at 0x7fc2da9461d0>,\n",
       " <simtk.openmm.app.forcefield.ForceField._TemplateData at 0x7fc2da99c0b8>,\n",
       " <simtk.openmm.app.forcefield.ForceField._TemplateData at 0x7fc2da9aa438>,\n",
       " <simtk.openmm.app.forcefield.ForceField._TemplateData at 0x7fc2da9925c0>,\n",
       " <simtk.openmm.app.forcefield.ForceField._TemplateData at 0x7fc2da9970f0>,\n",
       " <simtk.openmm.app.forcefield.ForceField._TemplateData at 0x7fc2da997b00>]"
      ]
     },
     "execution_count": 10,
     "metadata": {},
     "output_type": "execute_result"
    }
   ],
   "source": [
    "templates[:]"
   ]
  },
  {
   "cell_type": "code",
   "execution_count": null,
   "metadata": {
    "collapsed": true
   },
   "outputs": [],
   "source": [
    "templates = forcefield.getMatchingTemplates(pdb.topology)\n",
    "for (residue, template) in zip(pdb.topology.residues(), templates):\n",
    "    print(\"Residue %d %s matched template %s\" % (residue.id, residue.name, template.name))"
   ]
  },
  {
   "cell_type": "code",
   "execution_count": 37,
   "metadata": {},
   "outputs": [
    {
     "ename": "SyntaxError",
     "evalue": "positional argument follows keyword argument (<ipython-input-37-9dc509e6d868>, line 1)",
     "output_type": "error",
     "traceback": [
      "\u001b[0;36m  File \u001b[0;32m\"<ipython-input-37-9dc509e6d868>\"\u001b[0;36m, line \u001b[0;32m1\u001b[0m\n\u001b[0;31m    pdb.topology.addResidue(name='MET',{Chain:'0'})\u001b[0m\n\u001b[0m                                      ^\u001b[0m\n\u001b[0;31mSyntaxError\u001b[0m\u001b[0;31m:\u001b[0m positional argument follows keyword argument\n"
     ]
    }
   ],
   "source": [
    "pdb.topology.addResidue(name='MET',{Chain:'0'})"
   ]
  },
  {
   "cell_type": "code",
   "execution_count": 43,
   "metadata": {},
   "outputs": [
    {
     "ename": "AttributeError",
     "evalue": "'Topology' object has no attribute 'chain'",
     "output_type": "error",
     "traceback": [
      "\u001b[0;31m---------------------------------------------------------------------------\u001b[0m",
      "\u001b[0;31mAttributeError\u001b[0m                            Traceback (most recent call last)",
      "\u001b[0;32m<ipython-input-43-b01b31b1ed15>\u001b[0m in \u001b[0;36m<module>\u001b[0;34m()\u001b[0m\n\u001b[0;32m----> 1\u001b[0;31m \u001b[0mpdb\u001b[0m\u001b[0;34m.\u001b[0m\u001b[0mtopology\u001b[0m\u001b[0;34m.\u001b[0m\u001b[0mchain\u001b[0m\u001b[0;34m\u001b[0m\u001b[0m\n\u001b[0m",
      "\u001b[0;31mAttributeError\u001b[0m: 'Topology' object has no attribute 'chain'"
     ]
    }
   ],
   "source": [
    "pdb.topology.chain"
   ]
  },
  {
   "cell_type": "code",
   "execution_count": null,
   "metadata": {
    "collapsed": true
   },
   "outputs": [],
   "source": [
    "from simtk.openmm.app import *\n",
    "from simtk.openmm import *\n",
    "from simtk.unit import *\n",
    "\n",
    "print('Loading...')\n",
    "pdb = PDBFile('4qvf.clean_cleaned.pdb')\n",
    "f=open('results.csv','w')\n",
    "forcefield = ForceField('amber99sb.xml', 'tip3p.xml')\n",
    "modeller = Modeller(pdb.topology, pdb.positions)\n",
    "print('Adding hydrogens...')\n",
    "modeller.addHydrogens(forcefield)\n",
    "print('Adding solvent...')\n",
    "modeller.addSolvent(forcefield, model='tip3p', padding=1*nanometer)\n",
    "print('Minimizing...')\n",
    "system = forcefield.createSystem(modeller.topology, nonbondedMethod=PME)\n",
    "integrator = VerletIntegrator(0.001*picoseconds)\n",
    "platform = Platform.getPlatformByName('OpenCL')\n",
    "\n",
    "\n",
    "simulation = Simulation(modeller.topology, system, integrator,platform)\n",
    "simulation.context.setPositions(modeller.positions)\n",
    "simulation.minimizeEnergy()\n",
    "simulation.reporters.append(PDBReporter('output.pdb', 1000))\n",
    "\n",
    "print('Saving...')\n",
    "simulation.reporters.append(StateDataReporter(f,100,step=True,kineticEnergy=True,totalEnergy=True,\n",
    "                                                potentialEnergy=True,density=True,temperature=True))\n",
    "simulation.step(30000)\n",
    "print('Done')"
   ]
  },
  {
   "cell_type": "code",
   "execution_count": null,
   "metadata": {
    "collapsed": true
   },
   "outputs": [],
   "source": [
    "from simtk.openmm.app import *\n",
    "from simtk.openmm import *\n",
    "from simtk.unit import *\n",
    "\n",
    "print('Loading...')\n",
    "pdb = PDBFile('4qvf_chainA_cleaned.pdb')\n",
    "f=open('results.A.csv','w')\n",
    "forcefield = ForceField('amber99sb.xml', 'tip3p.xml')\n",
    "modeller = Modeller(pdb.topology, pdb.positions)\n",
    "print('Adding hydrogens...')\n",
    "modeller.addHydrogens(forcefield)\n",
    "print('Adding solvent...')\n",
    "modeller.addSolvent(forcefield, model='tip3p', padding=1*nanometer)\n",
    "print('Minimizing...')\n",
    "system = forcefield.createSystem(modeller.topology, nonbondedMethod=PME)\n",
    "integrator = VerletIntegrator(0.001*picoseconds)\n",
    "platform = Platform.getPlatformByName('OpenCL')\n",
    "\n",
    "\n",
    "simulation = Simulation(modeller.topology, system, integrator,platform)\n",
    "simulation.context.setPositions(modeller.positions)\n",
    "simulation.minimizeEnergy()\n",
    "simulation.reporters.append(PDBReporter('output.A.pdb', 1000))\n",
    "\n",
    "print('Saving...')\n",
    "simulation.reporters.append(StateDataReporter(f,100,step=True,kineticEnergy=True,totalEnergy=True,\n",
    "                                                potentialEnergy=True,density=True,temperature=True))\n",
    "simulation.step(30000)\n",
    "print('Done')"
   ]
  },
  {
   "cell_type": "code",
   "execution_count": null,
   "metadata": {
    "collapsed": true
   },
   "outputs": [],
   "source": [
    "\n",
    "from simtk.openmm.app import *\n",
    "from simtk.openmm import *\n",
    "from simtk.unit import *\n",
    "\n",
    "print('Loading...')\n",
    "pdb = PDBFile('4qvf_chainB_cleaned.pdb')\n",
    "f=open('results.B.csv','w')\n",
    "forcefield = ForceField('amber99sb.xml', 'tip3p.xml')\n",
    "modeller = Modeller(pdb.topology, pdb.positions)\n",
    "print('Adding hydrogens...')\n",
    "modeller.addHydrogens(forcefield)\n",
    "print('Adding solvent...')\n",
    "modeller.addSolvent(forcefield, model='tip3p', padding=1*nanometer)\n",
    "print('Minimizing...')\n",
    "system = forcefield.createSystem(modeller.topology, nonbondedMethod=PME)\n",
    "integrator = VerletIntegrator(0.001*picoseconds)\n",
    "platform = Platform.getPlatformByName('OpenCL')\n",
    "\n",
    "\n",
    "simulation = Simulation(modeller.topology, system, integrator,platform)\n",
    "simulation.context.setPositions(modeller.positions)\n",
    "simulation.minimizeEnergy()\n",
    "simulation.reporters.append(PDBReporter('output.B.pdb', 1000))\n",
    "\n",
    "print('Saving...')\n",
    "simulation.reporters.append(StateDataReporter(f,100,step=True,kineticEnergy=True,totalEnergy=True,\n",
    "                                                potentialEnergy=True,density=True,temperature=True))\n",
    "simulation.step(30000)\n",
    "print('Done')"
   ]
  }
 ],
 "metadata": {
  "kernelspec": {
   "display_name": "Python 3",
   "language": "python",
   "name": "python3"
  },
  "language_info": {
   "codemirror_mode": {
    "name": "ipython",
    "version": 3
   },
   "file_extension": ".py",
   "mimetype": "text/x-python",
   "name": "python",
   "nbconvert_exporter": "python",
   "pygments_lexer": "ipython3",
   "version": "3.6.2"
  }
 },
 "nbformat": 4,
 "nbformat_minor": 2
}
